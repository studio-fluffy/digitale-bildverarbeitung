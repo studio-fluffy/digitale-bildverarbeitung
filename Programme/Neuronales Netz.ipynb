{
 "cells": [
  {
   "cell_type": "code",
   "execution_count": 217,
   "metadata": {
    "collapsed": false
   },
   "outputs": [],
   "source": [
    "class Node:\n",
    "    def __init__(self, weights, bias, activisionFunction):\n",
    "        self.weights = weights\n",
    "        self.activisionFunction = activisionFunction\n",
    "        self.bias = bias\n",
    "    def evaluate(self, valuesIn):\n",
    "        wsum = 0\n",
    "        for i in range(0, len(valuesIn)):\n",
    "            wsum += valuesIn[i]*self.weights[i]\n",
    "        valueOut = self.activisionFunction(wsum + self.bias)\n",
    "        return valueOut"
   ]
  },
  {
   "cell_type": "code",
   "execution_count": 218,
   "metadata": {
    "collapsed": true
   },
   "outputs": [],
   "source": [
    "def ReLU(x):\n",
    "    y = max(0.0, x)\n",
    "    return y"
   ]
  },
  {
   "cell_type": "code",
   "execution_count": 219,
   "metadata": {
    "collapsed": false
   },
   "outputs": [],
   "source": [
    "node_1_1 = Node([1,1], 0.1, ReLU)"
   ]
  },
  {
   "cell_type": "code",
   "execution_count": 220,
   "metadata": {
    "collapsed": false
   },
   "outputs": [],
   "source": [
    "val = node_1_1.evaluate([1,1])"
   ]
  },
  {
   "cell_type": "code",
   "execution_count": 221,
   "metadata": {
    "collapsed": false
   },
   "outputs": [
    {
     "name": "stdout",
     "output_type": "stream",
     "text": [
      "2.1\n"
     ]
    }
   ],
   "source": [
    "print(val)"
   ]
  },
  {
   "cell_type": "code",
   "execution_count": 222,
   "metadata": {
    "collapsed": false
   },
   "outputs": [],
   "source": [
    "class Layer:\n",
    "    def __init__(self, nodes):\n",
    "            self.nodes = nodes\n",
    "     \n",
    "    def evaluate(self, valuesIn):\n",
    "        valuesOut = []\n",
    "        for node in self.nodes:\n",
    "            valueNode = node.evaluate(valuesIn)\n",
    "            valuesOut.append(valueNode)\n",
    "        return valuesOut\n",
    "        "
   ]
  },
  {
   "cell_type": "code",
   "execution_count": 223,
   "metadata": {
    "collapsed": true
   },
   "outputs": [],
   "source": [
    "node_1_1 = Node([1,1,1], 0.1, ReLU)\n",
    "node_1_2 = Node([1,1,1], 0.1, ReLU)\n",
    "node_1_3 = Node([1,1,1], 0.1, ReLU)"
   ]
  },
  {
   "cell_type": "code",
   "execution_count": 224,
   "metadata": {
    "collapsed": false
   },
   "outputs": [],
   "source": [
    "layer_1 = Layer([node_1_1, node_1_2,  node_1_3])"
   ]
  },
  {
   "cell_type": "code",
   "execution_count": 225,
   "metadata": {
    "collapsed": false
   },
   "outputs": [
    {
     "name": "stdout",
     "output_type": "stream",
     "text": [
      "[3.1, 3.1, 3.1]\n"
     ]
    }
   ],
   "source": [
    "val = layer_1.evaluate([1,1,1])\n",
    "print(val)"
   ]
  },
  {
   "cell_type": "code",
   "execution_count": 226,
   "metadata": {
    "collapsed": true
   },
   "outputs": [],
   "source": [
    "class NeuralNetwork:\n",
    "    def __init__(self, layer):\n",
    "            self.layer = layer\n",
    "     \n",
    "    def evaluate(self, valuesIn):\n",
    "        for layer in self.layer:\n",
    "            valuesOut = layer.evaluate(valuesIn)\n",
    "            valuesIn = valuesOut \n",
    "        return valuesOut"
   ]
  },
  {
   "cell_type": "code",
   "execution_count": 227,
   "metadata": {
    "collapsed": true
   },
   "outputs": [],
   "source": [
    "node_1_1 = Node([1,1,1], 0.1, ReLU)\n",
    "node_1_2 = Node([1,1,1], 0.1, ReLU)\n",
    "node_1_3 = Node([1,1,1], 0.1, ReLU)"
   ]
  },
  {
   "cell_type": "code",
   "execution_count": 228,
   "metadata": {
    "collapsed": true
   },
   "outputs": [],
   "source": [
    "layer_1 = Layer([node_1_1, node_1_2,  node_1_3])"
   ]
  },
  {
   "cell_type": "code",
   "execution_count": 229,
   "metadata": {
    "collapsed": true
   },
   "outputs": [],
   "source": [
    "node_2_1 = Node([1,1,1], 0.1, ReLU)\n",
    "node_2_2 = Node([1,1,1], 0.1, ReLU)"
   ]
  },
  {
   "cell_type": "code",
   "execution_count": 230,
   "metadata": {
    "collapsed": false
   },
   "outputs": [],
   "source": [
    "layer_2 = Layer([node_2_1, node_2_2])"
   ]
  },
  {
   "cell_type": "code",
   "execution_count": 231,
   "metadata": {
    "collapsed": true
   },
   "outputs": [],
   "source": [
    "node_3_1 = Node([1,1], 0.1, ReLU)\n"
   ]
  },
  {
   "cell_type": "code",
   "execution_count": 232,
   "metadata": {
    "collapsed": false
   },
   "outputs": [],
   "source": [
    "layer_3 = Layer([node_3_1])"
   ]
  },
  {
   "cell_type": "code",
   "execution_count": 233,
   "metadata": {
    "collapsed": true
   },
   "outputs": [],
   "source": [
    "nn = NeuralNetwork([layer_1, layer_2, layer_3])"
   ]
  },
  {
   "cell_type": "code",
   "execution_count": 234,
   "metadata": {
    "collapsed": false
   },
   "outputs": [],
   "source": [
    "val = nn.evaluate([1,1,1])"
   ]
  },
  {
   "cell_type": "code",
   "execution_count": 235,
   "metadata": {
    "collapsed": false
   },
   "outputs": [
    {
     "name": "stdout",
     "output_type": "stream",
     "text": [
      "[18.900000000000002]\n"
     ]
    }
   ],
   "source": [
    "print(val)"
   ]
  },
  {
   "cell_type": "code",
   "execution_count": null,
   "metadata": {
    "collapsed": true
   },
   "outputs": [],
   "source": []
  },
  {
   "cell_type": "code",
   "execution_count": null,
   "metadata": {
    "collapsed": true
   },
   "outputs": [],
   "source": []
  },
  {
   "cell_type": "code",
   "execution_count": null,
   "metadata": {
    "collapsed": true
   },
   "outputs": [],
   "source": []
  }
 ],
 "metadata": {
  "kernelspec": {
   "display_name": "Python 3",
   "language": "python",
   "name": "python3"
  },
  "language_info": {
   "codemirror_mode": {
    "name": "ipython",
    "version": 3
   },
   "file_extension": ".py",
   "mimetype": "text/x-python",
   "name": "python",
   "nbconvert_exporter": "python",
   "pygments_lexer": "ipython3",
   "version": "3.6.8"
  }
 },
 "nbformat": 4,
 "nbformat_minor": 2
}
